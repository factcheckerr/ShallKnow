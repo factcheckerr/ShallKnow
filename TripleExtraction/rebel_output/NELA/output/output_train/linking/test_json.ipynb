{
 "cells": [
  {
   "cell_type": "code",
   "execution_count": 68,
   "id": "aa165d2a-5036-4fa6-8dfc-3ef49560d971",
   "metadata": {
    "tags": []
   },
   "outputs": [
    {
     "name": "stdout",
     "output_type": "stream",
     "text": [
      "{\"triple\":\"'https://www.wikidata.org/wiki/Q29552', 'http://www.wikidata.org/entity/P461', 'https://www.wikidata.org/wiki/Q29468'\",\t\"subject\":\"'Democrat'\",\t\"predicate\":\"'opposite of'\",\t\"object\":\"'Republican'\",\t\"claim\":\"'USAWatchdog.com is neither Democrat nor Republican, Liberal or Conservative.'\",\t\"id\":\"'whatreallyhappened--2020-10-25--Trump the Winner in November – Gerald Celente'\"}\n",
      "\n",
      "USAWatchdog.com is neither Democrat nor Republican, Liberal or Conservative.\n",
      "USAWatchdog.com is neither Democrat nor Republican, Liberal or Conservative.\n",
      "\"'USAWatchdog.com is neither Democrat nor Republican, Liberal or Conservative.'\"\n",
      "\"'whatreallyhappened--2020-10-25--Trump the Winner in November – Gerald Celente'\"\n",
      "'whatreallyhappened--2020-10-25--Trump the Winner in November – Gerald Celente'\n",
      "\"'whatreallyhappened--2020-10-25--Trump the Winner in November – Gerald Celente'\"\n",
      "{'triple': \"'https://www.wikidata.org/wiki/Q29552', 'http://www.wikidata.org/entity/P461', 'https://www.wikidata.org/wiki/Q29468'\", 'subject': \"'Democrat'\", 'predicate': \"'opposite of'\", 'object': \"'Republican'\", 'claim': \"'USAWatchdog.com is neither Democrat nor Republican, Liberal or Conservative.'\", 'id': \"'whatreallyhappened--2020-10-25--Trump the Winner in November – Gerald Celente'\"}\n",
      "{'triple': \"'https://www.wikidata.org/wiki/Q29552', 'http://www.wikidata.org/entity/P461', 'https://www.wikidata.org/wiki/Q29468'\", 'subject': \"'Democrat'\", 'predicate': \"'opposite of'\", 'object': \"'Republican'\", 'claim': \"'USAWatchdog.com is neither Democrat nor Republican, Liberal or Conservative.'\", 'id': \"'whatreallyhappened--2020-10-25--Trump the Winner in November – Gerald Celente'\"}\n"
     ]
    }
   ],
   "source": [
    "import json\n",
    "import re\n",
    "\n",
    "def add_backslash_to_quotes(input_string):\n",
    "    # input_string = input_string.replace(\"'\", \"\\'\")\n",
    "    print(input_string)\n",
    "    input_string = re.sub(r'\\\\+', r'\\\\', input_string)\n",
    "    input_string = re.sub(r'^[\\'\"]|[\\'\"]$', '', input_string)\n",
    "    print(input_string)\n",
    "    if input_string[0] == \"'\" and input_string[-1] == \"'\":\n",
    "        input_string = input_string[1:-1]\n",
    "    if input_string[0] == \"'\" and input_string[-1] != \"'\":\n",
    "        input_string = input_string[1:]\n",
    "    if input_string[0] != \"'\" and input_string[-1] == \"'\":\n",
    "        input_string = input_string[:-1]\n",
    "\n",
    "    if input_string[:2] == \"\\\"'\" and input_string[-2:] == \"'\\\"\":\n",
    "        print(input_string)\n",
    "        input_string = input_string[2:-2]\n",
    "        print(input_string)\n",
    "\n",
    "    if input_string[0] == \"\\\"\" and input_string[-1] == \"\\\"\":\n",
    "        input_string = input_string[1:-1]\n",
    "        print(input_string)\n",
    "\n",
    "    input_string = input_string.replace(\"\\xad\", \"\")\n",
    "    input_string = input_string.replace(\"\\xa0\", \"\")\n",
    "    input_string = repr(input_string)\n",
    "    # input_string = input_string.replace(\"\\\\\\'\", \"\\'\")\n",
    "    input_string = input_string.replace(\"\\\\u200e\", \"\\u200e\")\n",
    "\n",
    "    input_string  = input_string.replace(\"\\\"\",\"\").replace(\"\\\\\",\"\")\n",
    "    if input_string[0] != \"\\\"\" and input_string[-1] != \"\\\"\":\n",
    "        # here the string is really without any quotations\n",
    "        input_string = input_string.replace('\"', '\\\\\"')\n",
    "        input_string = input_string.replace('\\\"', '\\\\\"')\n",
    "        input_string = \"\\\"\" + input_string + \"\\\"\"\n",
    "\n",
    "\n",
    "    if input_string[0] == \"\\\"\" and input_string[1] == \"\\\"\":\n",
    "        input_string = input_string.replace(\"\\\"\\\"\", \"\\\"\")\n",
    "        print(input_string)\n",
    "        print(\"!!!!!!!!check why here!!!!!\")\n",
    "        exit(1)\n",
    "\n",
    "    input_string = input_string.replace(\"\\\\\\\\\\\"\", \"\\\"\")\n",
    "    input_string = input_string.replace(\":\", \"\\:\").replace(\"\\\\\",\"\")\n",
    "    print(input_string)\n",
    "    return input_string\n",
    "\n",
    "def read_jsonl_file(file_path):\n",
    "    data2 = []\n",
    "    with open(file_path, 'r', encoding='utf-8') as file,open('2-'+file_path, 'w', encoding='utf-8') as file2:\n",
    "        for line in file:\n",
    "            try:\n",
    "                print(line)\n",
    "                # print(add_backslash_to_quotes(line.split(\"\\\"id\\\":\")[1][:-2]))\n",
    "                line=(\"{\\\"triple\\\": \" + ((line.split(\"\\\"triple\\\":\")[1].split(\"\\\"subject\\\":\")[0][:-2])) +\",\"\n",
    "                + \" \\\"subject\\\": \" + ((line.split(\"\\\"subject\\\":\")[1].split(\"\\\"predicate\\\":\")[0][:-2])) +\",\"\n",
    "                + \" \\\"predicate\\\": \" + ((line.split(\"\\\"predicate\\\":\")[1].split(\"\\\"object\\\":\")[0][:-2])) +\",\"\n",
    "                 + \" \\\"object\\\": \" + ((line.split(\"\\\"object\\\":\")[1].split(\"\\\"claim\\\":\")[0][:-2])) +\",\"\n",
    "                + \" \\\"claim\\\": \" + add_backslash_to_quotes(line.split(\"\\\"claim\\\":\")[1].split(\"\\\"id\\\":\")[0][2:-4]) +\",\"\n",
    "                + \" \\\"id\\\":\" + add_backslash_to_quotes(line.split(\"\\\"id\\\":\")[1][:-2]) +\"}\")\n",
    "                data = json.loads(line)\n",
    "                data2.append(data)\n",
    "                print(data)\n",
    "                # yield data['id']\n",
    "                break\n",
    "            \n",
    "            except json.JSONDecodeError as e:\n",
    "                print(f\"Error decoding JSON: {e}\")\n",
    "                print(line)\n",
    "                break\n",
    "        for ll in data2:\n",
    "            file2.write(str(ll))\n",
    "\n",
    "# Example usage:\n",
    "file_path = 'output_triples_IRIs.jsonl'\n",
    "read_jsonl_file(file_path)\n",
    "# for json_data in read_jsonl_file(file_path):\n",
    "#     print(json_data)"
   ]
  },
  {
   "cell_type": "code",
   "execution_count": null,
   "id": "9d30e9ff-64d4-4cf2-9a2c-febd26326cdc",
   "metadata": {},
   "outputs": [],
   "source": []
  },
  {
   "cell_type": "code",
   "execution_count": null,
   "id": "0a5e3bf2-ac1a-4788-878a-9aacd9d2daee",
   "metadata": {},
   "outputs": [],
   "source": []
  },
  {
   "cell_type": "code",
   "execution_count": null,
   "id": "22cfa0ad-e6a9-4f67-939c-7e529a02675e",
   "metadata": {},
   "outputs": [],
   "source": []
  }
 ],
 "metadata": {
  "kernelspec": {
   "display_name": "Python 3 (ipykernel)",
   "language": "python",
   "name": "python3"
  },
  "language_info": {
   "codemirror_mode": {
    "name": "ipython",
    "version": 3
   },
   "file_extension": ".py",
   "mimetype": "text/x-python",
   "name": "python",
   "nbconvert_exporter": "python",
   "pygments_lexer": "ipython3",
   "version": "3.11.6"
  }
 },
 "nbformat": 4,
 "nbformat_minor": 5
}
